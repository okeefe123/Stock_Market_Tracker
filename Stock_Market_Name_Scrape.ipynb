{
 "cells": [
  {
   "cell_type": "markdown",
   "id": "worst-campaign",
   "metadata": {},
   "source": [
    "# Creating DataFrame Skeleton\n",
    "\n",
    "Goal: create a DataFrame for both S&P500 and NASDAQ which contains the name of the company and the acronym. Save the skeleton CSV's for scraping purposes"
   ]
  },
  {
   "cell_type": "code",
   "execution_count": 50,
   "id": "accomplished-underwear",
   "metadata": {},
   "outputs": [],
   "source": [
    "from datapackage import Package\n",
    "import pandas as pd\n",
    "import re"
   ]
  },
  {
   "cell_type": "code",
   "execution_count": 25,
   "id": "optional-evening",
   "metadata": {},
   "outputs": [],
   "source": [
    "def get_stock_names(package_url: str) -> dict:\n",
    "    \"\"\"Returns dictionary of stock acronyms/names\"\"\"\n",
    "\n",
    "    package = Package(package_url)\n",
    "    company_list = []\n",
    "\n",
    "    for resource in package.resources:\n",
    "        if resource.descriptor['datahub']['type'] == 'derived/csv':\n",
    "            company_list = resource.read()\n",
    "    \n",
    "    company_dict = {}\n",
    "    \n",
    "    for company in company_list:\n",
    "        company_dict[company[0]] = company[1]\n",
    "        \n",
    "    return company_dict"
   ]
  },
  {
   "cell_type": "code",
   "execution_count": 26,
   "id": "romantic-connection",
   "metadata": {},
   "outputs": [],
   "source": [
    "#Include any other desired stock market profiles\n",
    "\n",
    "urls = {\"S&P500\": 'https://datahub.io/core/s-and-p-500-companies/datapackage.json',\n",
    "        \"NASDAQ\": 'https://datahub.io/core/nasdaq-listings/datapackage.json'}"
   ]
  },
  {
   "cell_type": "code",
   "execution_count": 27,
   "id": "cheap-sentence",
   "metadata": {},
   "outputs": [],
   "source": [
    "SandP500 = get_stock_names(urls[\"S&P500\"])\n",
    "NASDAQ = get_stock_names(urls[\"NASDAQ\"])"
   ]
  },
  {
   "cell_type": "code",
   "execution_count": 70,
   "id": "removed-namibia",
   "metadata": {},
   "outputs": [],
   "source": [
    "SP = pd.DataFrame(SandP500.items(), columns = ['Acronym', 'Name'])\n",
    "NASDAQQ = pd.DataFrame(NASDAQ.items(), columns = ['Acronym', 'Name'])"
   ]
  },
  {
   "cell_type": "code",
   "execution_count": 71,
   "id": "pacific-belarus",
   "metadata": {},
   "outputs": [],
   "source": [
    "NASDAQQ['Name'] = NASDAQQ['Name'].map(lambda x: str(re.sub(r'[,.]','', x)).split())\n",
    "SP['Name'] = SP['Name'].map(lambda x: str(re.sub(r'[,.]','', x)).split())"
   ]
  },
  {
   "cell_type": "code",
   "execution_count": 72,
   "id": "isolated-tracker",
   "metadata": {},
   "outputs": [],
   "source": [
    "NASDAQQ.to_csv('NASDAQ_List.csv')\n",
    "SP.to_csv('S&P500_List.csv')"
   ]
  },
  {
   "cell_type": "code",
   "execution_count": null,
   "id": "hourly-simpson",
   "metadata": {},
   "outputs": [],
   "source": []
  }
 ],
 "metadata": {
  "kernelspec": {
   "display_name": "Python 3",
   "language": "python",
   "name": "python3"
  },
  "language_info": {
   "codemirror_mode": {
    "name": "ipython",
    "version": 3
   },
   "file_extension": ".py",
   "mimetype": "text/x-python",
   "name": "python",
   "nbconvert_exporter": "python",
   "pygments_lexer": "ipython3",
   "version": "3.8.1"
  }
 },
 "nbformat": 4,
 "nbformat_minor": 5
}
